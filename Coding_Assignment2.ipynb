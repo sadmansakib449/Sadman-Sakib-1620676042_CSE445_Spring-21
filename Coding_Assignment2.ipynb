{
 "cells": [
  {
   "cell_type": "code",
   "execution_count": 1,
   "metadata": {},
   "outputs": [],
   "source": [
    "import pandas as pd\n",
    "import numpy as np\n",
    "import seaborn as sns\n",
    "import matplotlib.pyplot as plt\n",
    "from sklearn.linear_model import LinearRegression\n",
    "from sklearn.model_selection import train_test_split\n",
    "\n",
    "\n",
    "from sklearn.metrics import mean_absolute_error\n",
    "from sklearn.metrics import mean_squared_error\n",
    "from math import sqrt\n",
    "from sklearn.metrics import r2_score"
   ]
  },
  {
   "cell_type": "code",
   "execution_count": 2,
   "metadata": {},
   "outputs": [
    {
     "data": {
      "text/html": [
       "<div>\n",
       "<style scoped>\n",
       "    .dataframe tbody tr th:only-of-type {\n",
       "        vertical-align: middle;\n",
       "    }\n",
       "\n",
       "    .dataframe tbody tr th {\n",
       "        vertical-align: top;\n",
       "    }\n",
       "\n",
       "    .dataframe thead th {\n",
       "        text-align: right;\n",
       "    }\n",
       "</style>\n",
       "<table border=\"1\" class=\"dataframe\">\n",
       "  <thead>\n",
       "    <tr style=\"text-align: right;\">\n",
       "      <th></th>\n",
       "      <th>Date</th>\n",
       "      <th>Model</th>\n",
       "      <th>Count</th>\n",
       "    </tr>\n",
       "  </thead>\n",
       "  <tbody>\n",
       "    <tr>\n",
       "      <th>0</th>\n",
       "      <td>31-Aug-16</td>\n",
       "      <td>M45</td>\n",
       "      <td>5</td>\n",
       "    </tr>\n",
       "    <tr>\n",
       "      <th>1</th>\n",
       "      <td>31-Aug-16</td>\n",
       "      <td>M121</td>\n",
       "      <td>3</td>\n",
       "    </tr>\n",
       "    <tr>\n",
       "      <th>2</th>\n",
       "      <td>31-Aug-16</td>\n",
       "      <td>M122</td>\n",
       "      <td>4</td>\n",
       "    </tr>\n",
       "    <tr>\n",
       "      <th>3</th>\n",
       "      <td>31-Aug-16</td>\n",
       "      <td>M91</td>\n",
       "      <td>10</td>\n",
       "    </tr>\n",
       "    <tr>\n",
       "      <th>4</th>\n",
       "      <td>31-Aug-16</td>\n",
       "      <td>M66</td>\n",
       "      <td>57</td>\n",
       "    </tr>\n",
       "    <tr>\n",
       "      <th>...</th>\n",
       "      <td>...</td>\n",
       "      <td>...</td>\n",
       "      <td>...</td>\n",
       "    </tr>\n",
       "    <tr>\n",
       "      <th>46111</th>\n",
       "      <td>01-Jan-14</td>\n",
       "      <td>M74</td>\n",
       "      <td>1</td>\n",
       "    </tr>\n",
       "    <tr>\n",
       "      <th>46112</th>\n",
       "      <td>01-Jan-14</td>\n",
       "      <td>M59</td>\n",
       "      <td>1</td>\n",
       "    </tr>\n",
       "    <tr>\n",
       "      <th>46113</th>\n",
       "      <td>01-Jan-14</td>\n",
       "      <td>M60</td>\n",
       "      <td>5</td>\n",
       "    </tr>\n",
       "    <tr>\n",
       "      <th>46114</th>\n",
       "      <td>01-Jan-14</td>\n",
       "      <td>M54</td>\n",
       "      <td>1</td>\n",
       "    </tr>\n",
       "    <tr>\n",
       "      <th>46115</th>\n",
       "      <td>01-Jan-14</td>\n",
       "      <td>M58</td>\n",
       "      <td>1</td>\n",
       "    </tr>\n",
       "  </tbody>\n",
       "</table>\n",
       "<p>46116 rows × 3 columns</p>\n",
       "</div>"
      ],
      "text/plain": [
       "            Date Model  Count\n",
       "0      31-Aug-16   M45      5\n",
       "1      31-Aug-16  M121      3\n",
       "2      31-Aug-16  M122      4\n",
       "3      31-Aug-16   M91     10\n",
       "4      31-Aug-16   M66     57\n",
       "...          ...   ...    ...\n",
       "46111  01-Jan-14   M74      1\n",
       "46112  01-Jan-14   M59      1\n",
       "46113  01-Jan-14   M60      5\n",
       "46114  01-Jan-14   M54      1\n",
       "46115  01-Jan-14   M58      1\n",
       "\n",
       "[46116 rows x 3 columns]"
      ]
     },
     "execution_count": 2,
     "metadata": {},
     "output_type": "execute_result"
    }
   ],
   "source": [
    "DataFrame = pd.read_csv('Date and model wise sale.csv') \n",
    "DataFrame"
   ]
  },
  {
   "cell_type": "code",
   "execution_count": 3,
   "metadata": {},
   "outputs": [
    {
     "data": {
      "text/plain": [
       "Date     0\n",
       "Model    0\n",
       "Count    0\n",
       "dtype: int64"
      ]
     },
     "execution_count": 3,
     "metadata": {},
     "output_type": "execute_result"
    }
   ],
   "source": [
    "DataFrame.isnull().sum()"
   ]
  },
  {
   "cell_type": "code",
   "execution_count": 4,
   "metadata": {},
   "outputs": [
    {
     "data": {
      "text/html": [
       "<div>\n",
       "<style scoped>\n",
       "    .dataframe tbody tr th:only-of-type {\n",
       "        vertical-align: middle;\n",
       "    }\n",
       "\n",
       "    .dataframe tbody tr th {\n",
       "        vertical-align: top;\n",
       "    }\n",
       "\n",
       "    .dataframe thead th {\n",
       "        text-align: right;\n",
       "    }\n",
       "</style>\n",
       "<table border=\"1\" class=\"dataframe\">\n",
       "  <thead>\n",
       "    <tr style=\"text-align: right;\">\n",
       "      <th></th>\n",
       "      <th>Date</th>\n",
       "      <th>Model</th>\n",
       "      <th>Count</th>\n",
       "    </tr>\n",
       "  </thead>\n",
       "  <tbody>\n",
       "    <tr>\n",
       "      <th>0</th>\n",
       "      <td>2016-08-31</td>\n",
       "      <td>M45</td>\n",
       "      <td>5</td>\n",
       "    </tr>\n",
       "    <tr>\n",
       "      <th>1</th>\n",
       "      <td>2016-08-31</td>\n",
       "      <td>M121</td>\n",
       "      <td>3</td>\n",
       "    </tr>\n",
       "    <tr>\n",
       "      <th>2</th>\n",
       "      <td>2016-08-31</td>\n",
       "      <td>M122</td>\n",
       "      <td>4</td>\n",
       "    </tr>\n",
       "    <tr>\n",
       "      <th>3</th>\n",
       "      <td>2016-08-31</td>\n",
       "      <td>M91</td>\n",
       "      <td>10</td>\n",
       "    </tr>\n",
       "    <tr>\n",
       "      <th>4</th>\n",
       "      <td>2016-08-31</td>\n",
       "      <td>M66</td>\n",
       "      <td>57</td>\n",
       "    </tr>\n",
       "    <tr>\n",
       "      <th>...</th>\n",
       "      <td>...</td>\n",
       "      <td>...</td>\n",
       "      <td>...</td>\n",
       "    </tr>\n",
       "    <tr>\n",
       "      <th>46111</th>\n",
       "      <td>2014-01-01</td>\n",
       "      <td>M74</td>\n",
       "      <td>1</td>\n",
       "    </tr>\n",
       "    <tr>\n",
       "      <th>46112</th>\n",
       "      <td>2014-01-01</td>\n",
       "      <td>M59</td>\n",
       "      <td>1</td>\n",
       "    </tr>\n",
       "    <tr>\n",
       "      <th>46113</th>\n",
       "      <td>2014-01-01</td>\n",
       "      <td>M60</td>\n",
       "      <td>5</td>\n",
       "    </tr>\n",
       "    <tr>\n",
       "      <th>46114</th>\n",
       "      <td>2014-01-01</td>\n",
       "      <td>M54</td>\n",
       "      <td>1</td>\n",
       "    </tr>\n",
       "    <tr>\n",
       "      <th>46115</th>\n",
       "      <td>2014-01-01</td>\n",
       "      <td>M58</td>\n",
       "      <td>1</td>\n",
       "    </tr>\n",
       "  </tbody>\n",
       "</table>\n",
       "<p>46116 rows × 3 columns</p>\n",
       "</div>"
      ],
      "text/plain": [
       "            Date Model  Count\n",
       "0     2016-08-31   M45      5\n",
       "1     2016-08-31  M121      3\n",
       "2     2016-08-31  M122      4\n",
       "3     2016-08-31   M91     10\n",
       "4     2016-08-31   M66     57\n",
       "...          ...   ...    ...\n",
       "46111 2014-01-01   M74      1\n",
       "46112 2014-01-01   M59      1\n",
       "46113 2014-01-01   M60      5\n",
       "46114 2014-01-01   M54      1\n",
       "46115 2014-01-01   M58      1\n",
       "\n",
       "[46116 rows x 3 columns]"
      ]
     },
     "execution_count": 4,
     "metadata": {},
     "output_type": "execute_result"
    }
   ],
   "source": [
    "DataFrame['Date'] = pd.to_datetime(DataFrame['Date'])\n",
    "DataFrame"
   ]
  },
  {
   "cell_type": "code",
   "execution_count": 5,
   "metadata": {},
   "outputs": [
    {
     "name": "stderr",
     "output_type": "stream",
     "text": [
      "<ipython-input-5-9a424c441cb1>:6: FutureWarning: weekofyear and week have been deprecated, please use DatetimeIndex.isocalendar().week instead, which returns a Series.  To exactly reproduce the behavior of week and weekofyear and return an Index, you may call pd.Int64Index(idx.isocalendar().week)\n",
      "  DataFrame['weekofyear'] = pd.DatetimeIndex(DataFrame['Date']).weekofyear\n"
     ]
    },
    {
     "data": {
      "text/html": [
       "<div>\n",
       "<style scoped>\n",
       "    .dataframe tbody tr th:only-of-type {\n",
       "        vertical-align: middle;\n",
       "    }\n",
       "\n",
       "    .dataframe tbody tr th {\n",
       "        vertical-align: top;\n",
       "    }\n",
       "\n",
       "    .dataframe thead th {\n",
       "        text-align: right;\n",
       "    }\n",
       "</style>\n",
       "<table border=\"1\" class=\"dataframe\">\n",
       "  <thead>\n",
       "    <tr style=\"text-align: right;\">\n",
       "      <th></th>\n",
       "      <th>Date</th>\n",
       "      <th>Model</th>\n",
       "      <th>Count</th>\n",
       "      <th>year</th>\n",
       "      <th>month</th>\n",
       "      <th>day</th>\n",
       "      <th>dayofyear</th>\n",
       "      <th>weekofyear</th>\n",
       "      <th>weekday</th>\n",
       "      <th>quarter</th>\n",
       "      <th>is_month_start</th>\n",
       "      <th>is_month_end</th>\n",
       "    </tr>\n",
       "  </thead>\n",
       "  <tbody>\n",
       "    <tr>\n",
       "      <th>0</th>\n",
       "      <td>31.08.2016</td>\n",
       "      <td>M45</td>\n",
       "      <td>5</td>\n",
       "      <td>2016</td>\n",
       "      <td>8</td>\n",
       "      <td>31</td>\n",
       "      <td>244</td>\n",
       "      <td>35</td>\n",
       "      <td>2</td>\n",
       "      <td>3</td>\n",
       "      <td>False</td>\n",
       "      <td>True</td>\n",
       "    </tr>\n",
       "    <tr>\n",
       "      <th>1</th>\n",
       "      <td>31.08.2016</td>\n",
       "      <td>M121</td>\n",
       "      <td>3</td>\n",
       "      <td>2016</td>\n",
       "      <td>8</td>\n",
       "      <td>31</td>\n",
       "      <td>244</td>\n",
       "      <td>35</td>\n",
       "      <td>2</td>\n",
       "      <td>3</td>\n",
       "      <td>False</td>\n",
       "      <td>True</td>\n",
       "    </tr>\n",
       "    <tr>\n",
       "      <th>2</th>\n",
       "      <td>31.08.2016</td>\n",
       "      <td>M122</td>\n",
       "      <td>4</td>\n",
       "      <td>2016</td>\n",
       "      <td>8</td>\n",
       "      <td>31</td>\n",
       "      <td>244</td>\n",
       "      <td>35</td>\n",
       "      <td>2</td>\n",
       "      <td>3</td>\n",
       "      <td>False</td>\n",
       "      <td>True</td>\n",
       "    </tr>\n",
       "    <tr>\n",
       "      <th>3</th>\n",
       "      <td>31.08.2016</td>\n",
       "      <td>M91</td>\n",
       "      <td>10</td>\n",
       "      <td>2016</td>\n",
       "      <td>8</td>\n",
       "      <td>31</td>\n",
       "      <td>244</td>\n",
       "      <td>35</td>\n",
       "      <td>2</td>\n",
       "      <td>3</td>\n",
       "      <td>False</td>\n",
       "      <td>True</td>\n",
       "    </tr>\n",
       "    <tr>\n",
       "      <th>4</th>\n",
       "      <td>31.08.2016</td>\n",
       "      <td>M66</td>\n",
       "      <td>57</td>\n",
       "      <td>2016</td>\n",
       "      <td>8</td>\n",
       "      <td>31</td>\n",
       "      <td>244</td>\n",
       "      <td>35</td>\n",
       "      <td>2</td>\n",
       "      <td>3</td>\n",
       "      <td>False</td>\n",
       "      <td>True</td>\n",
       "    </tr>\n",
       "    <tr>\n",
       "      <th>...</th>\n",
       "      <td>...</td>\n",
       "      <td>...</td>\n",
       "      <td>...</td>\n",
       "      <td>...</td>\n",
       "      <td>...</td>\n",
       "      <td>...</td>\n",
       "      <td>...</td>\n",
       "      <td>...</td>\n",
       "      <td>...</td>\n",
       "      <td>...</td>\n",
       "      <td>...</td>\n",
       "      <td>...</td>\n",
       "    </tr>\n",
       "    <tr>\n",
       "      <th>46111</th>\n",
       "      <td>01.01.2014</td>\n",
       "      <td>M74</td>\n",
       "      <td>1</td>\n",
       "      <td>2014</td>\n",
       "      <td>1</td>\n",
       "      <td>1</td>\n",
       "      <td>1</td>\n",
       "      <td>1</td>\n",
       "      <td>2</td>\n",
       "      <td>1</td>\n",
       "      <td>True</td>\n",
       "      <td>False</td>\n",
       "    </tr>\n",
       "    <tr>\n",
       "      <th>46112</th>\n",
       "      <td>01.01.2014</td>\n",
       "      <td>M59</td>\n",
       "      <td>1</td>\n",
       "      <td>2014</td>\n",
       "      <td>1</td>\n",
       "      <td>1</td>\n",
       "      <td>1</td>\n",
       "      <td>1</td>\n",
       "      <td>2</td>\n",
       "      <td>1</td>\n",
       "      <td>True</td>\n",
       "      <td>False</td>\n",
       "    </tr>\n",
       "    <tr>\n",
       "      <th>46113</th>\n",
       "      <td>01.01.2014</td>\n",
       "      <td>M60</td>\n",
       "      <td>5</td>\n",
       "      <td>2014</td>\n",
       "      <td>1</td>\n",
       "      <td>1</td>\n",
       "      <td>1</td>\n",
       "      <td>1</td>\n",
       "      <td>2</td>\n",
       "      <td>1</td>\n",
       "      <td>True</td>\n",
       "      <td>False</td>\n",
       "    </tr>\n",
       "    <tr>\n",
       "      <th>46114</th>\n",
       "      <td>01.01.2014</td>\n",
       "      <td>M54</td>\n",
       "      <td>1</td>\n",
       "      <td>2014</td>\n",
       "      <td>1</td>\n",
       "      <td>1</td>\n",
       "      <td>1</td>\n",
       "      <td>1</td>\n",
       "      <td>2</td>\n",
       "      <td>1</td>\n",
       "      <td>True</td>\n",
       "      <td>False</td>\n",
       "    </tr>\n",
       "    <tr>\n",
       "      <th>46115</th>\n",
       "      <td>01.01.2014</td>\n",
       "      <td>M58</td>\n",
       "      <td>1</td>\n",
       "      <td>2014</td>\n",
       "      <td>1</td>\n",
       "      <td>1</td>\n",
       "      <td>1</td>\n",
       "      <td>1</td>\n",
       "      <td>2</td>\n",
       "      <td>1</td>\n",
       "      <td>True</td>\n",
       "      <td>False</td>\n",
       "    </tr>\n",
       "  </tbody>\n",
       "</table>\n",
       "<p>46116 rows × 12 columns</p>\n",
       "</div>"
      ],
      "text/plain": [
       "             Date Model  Count  year  month  day  dayofyear  weekofyear  \\\n",
       "0      31.08.2016   M45      5  2016      8   31        244          35   \n",
       "1      31.08.2016  M121      3  2016      8   31        244          35   \n",
       "2      31.08.2016  M122      4  2016      8   31        244          35   \n",
       "3      31.08.2016   M91     10  2016      8   31        244          35   \n",
       "4      31.08.2016   M66     57  2016      8   31        244          35   \n",
       "...           ...   ...    ...   ...    ...  ...        ...         ...   \n",
       "46111  01.01.2014   M74      1  2014      1    1          1           1   \n",
       "46112  01.01.2014   M59      1  2014      1    1          1           1   \n",
       "46113  01.01.2014   M60      5  2014      1    1          1           1   \n",
       "46114  01.01.2014   M54      1  2014      1    1          1           1   \n",
       "46115  01.01.2014   M58      1  2014      1    1          1           1   \n",
       "\n",
       "       weekday  quarter  is_month_start  is_month_end  \n",
       "0            2        3           False          True  \n",
       "1            2        3           False          True  \n",
       "2            2        3           False          True  \n",
       "3            2        3           False          True  \n",
       "4            2        3           False          True  \n",
       "...        ...      ...             ...           ...  \n",
       "46111        2        1            True         False  \n",
       "46112        2        1            True         False  \n",
       "46113        2        1            True         False  \n",
       "46114        2        1            True         False  \n",
       "46115        2        1            True         False  \n",
       "\n",
       "[46116 rows x 12 columns]"
      ]
     },
     "execution_count": 5,
     "metadata": {},
     "output_type": "execute_result"
    }
   ],
   "source": [
    "DataFrame['Date'] = DataFrame['Date'].dt.strftime('%d.%m.%Y')\n",
    "DataFrame['year'] = pd.DatetimeIndex(DataFrame['Date']).year\n",
    "DataFrame['month'] = pd.DatetimeIndex(DataFrame['Date']).month\n",
    "DataFrame['day'] = pd.DatetimeIndex(DataFrame['Date']).day\n",
    "DataFrame['dayofyear'] = pd.DatetimeIndex(DataFrame['Date']).dayofyear\n",
    "DataFrame['weekofyear'] = pd.DatetimeIndex(DataFrame['Date']).weekofyear\n",
    "DataFrame['weekday'] = pd.DatetimeIndex(DataFrame['Date']).weekday\n",
    "DataFrame['quarter'] = pd.DatetimeIndex(DataFrame['Date']).quarter\n",
    "DataFrame['is_month_start'] = pd.DatetimeIndex(DataFrame['Date']).is_month_start\n",
    "DataFrame['is_month_end'] = pd.DatetimeIndex(DataFrame['Date']).is_month_end\n",
    "DataFrame"
   ]
  },
  {
   "cell_type": "code",
   "execution_count": 6,
   "metadata": {},
   "outputs": [
    {
     "name": "stdout",
     "output_type": "stream",
     "text": [
      "<class 'pandas.core.frame.DataFrame'>\n",
      "RangeIndex: 46116 entries, 0 to 46115\n",
      "Data columns (total 30 columns):\n",
      " #   Column        Non-Null Count  Dtype \n",
      "---  ------        --------------  ----- \n",
      " 0   Date          46116 non-null  object\n",
      " 1   Model         46116 non-null  object\n",
      " 2   Count         46116 non-null  int64 \n",
      " 3   day           46116 non-null  int64 \n",
      " 4   dayofyear     46116 non-null  int64 \n",
      " 5   weekofyear    46116 non-null  int64 \n",
      " 6   year_2015     46116 non-null  uint8 \n",
      " 7   year_2016     46116 non-null  uint8 \n",
      " 8   month_2       46116 non-null  uint8 \n",
      " 9   month_3       46116 non-null  uint8 \n",
      " 10  month_4       46116 non-null  uint8 \n",
      " 11  month_5       46116 non-null  uint8 \n",
      " 12  month_6       46116 non-null  uint8 \n",
      " 13  month_7       46116 non-null  uint8 \n",
      " 14  month_8       46116 non-null  uint8 \n",
      " 15  month_9       46116 non-null  uint8 \n",
      " 16  month_10      46116 non-null  uint8 \n",
      " 17  month_11      46116 non-null  uint8 \n",
      " 18  month_12      46116 non-null  uint8 \n",
      " 19  wday_1        46116 non-null  uint8 \n",
      " 20  wday_2        46116 non-null  uint8 \n",
      " 21  wday_3        46116 non-null  uint8 \n",
      " 22  wday_4        46116 non-null  uint8 \n",
      " 23  wday_5        46116 non-null  uint8 \n",
      " 24  wday_6        46116 non-null  uint8 \n",
      " 25  qrtr_2        46116 non-null  uint8 \n",
      " 26  qrtr_3        46116 non-null  uint8 \n",
      " 27  qrtr_4        46116 non-null  uint8 \n",
      " 28  m_start_True  46116 non-null  uint8 \n",
      " 29  m_end_True    46116 non-null  uint8 \n",
      "dtypes: int64(4), object(2), uint8(24)\n",
      "memory usage: 3.2+ MB\n"
     ]
    }
   ],
   "source": [
    "DataFrame = pd.get_dummies(DataFrame, columns=['year'], drop_first=True, prefix='year')\n",
    "\n",
    "DataFrame = pd.get_dummies(DataFrame, columns=['month'], drop_first=True, prefix='month')\n",
    "\n",
    "DataFrame = pd.get_dummies(DataFrame, columns=['weekday'], drop_first=True, prefix='wday')\n",
    "DataFrame = pd.get_dummies(DataFrame, columns=['quarter'], drop_first=True, prefix='qrtr')\n",
    "\n",
    "DataFrame = pd.get_dummies(DataFrame, columns=['is_month_start'], drop_first=True, prefix='m_start')\n",
    "\n",
    "DataFrame = pd.get_dummies(DataFrame, columns=['is_month_end'], drop_first=True, prefix='m_end')\n",
    "\n",
    "DataFrame.info()"
   ]
  },
  {
   "cell_type": "code",
   "execution_count": 8,
   "metadata": {},
   "outputs": [],
   "source": [
    "DataFrame['Date'] = pd.to_datetime(DataFrame['Date'])"
   ]
  },
  {
   "cell_type": "code",
   "execution_count": 9,
   "metadata": {},
   "outputs": [
    {
     "data": {
      "image/png": "[encoded data removed]",
      "text/plain": [
       "<Figure size 1080x360 with 1 Axes>"
      ]
     },
     "metadata": {
      "needs_background": "light"
     },
     "output_type": "display_data"
    }
   ],
   "source": [
    "DataFrame['year'] = DataFrame['Date'].dt.year\n",
    "\n",
    "sell_by_year = DataFrame.groupby('year')['Count'].sum()\n",
    "sell_by_year\n",
    "\n",
    "plt.figure(figsize=(15,5))\n",
    "plt.title(' Total sell throughout 2014-2016')\n",
    "sns.countplot(x='year', data=DataFrame, color='blue');"
   ]
  },
  {
   "cell_type": "code",
   "execution_count": 11,
   "metadata": {},
   "outputs": [
    {
     "data": {
      "text/plain": [
       "<AxesSubplot:title={'center':' Total Sale on each month throughout 2014-2016'}, xlabel='month', ylabel='Sale amount'>"
      ]
     },
     "execution_count": 11,
     "metadata": {},
     "output_type": "execute_result"
    },
    {
     "data": {
      "image/png": "[encoded data removed]",
      "text/plain": [
       "<Figure size 1080x360 with 1 Axes>"
      ]
     },
     "metadata": {
      "needs_background": "light"
     },
     "output_type": "display_data"
    }
   ],
   "source": [
    "DataFrame['month'] = DataFrame['Date'].dt.month\n",
    "\n",
    "sell_by_month = DataFrame.groupby('month')['Count'].sum()\n",
    "sell_by_month\n",
    "\n",
    "plt.figure(figsize=(15,5))\n",
    "plt.title(' Total Sale on each month throughout 2014-2016')\n",
    "plt.ylabel('Sale amount')\n",
    "DataFrame.groupby('month').Count.sum().plot(kind='bar',color='lightblue')"
   ]
  },
  {
   "cell_type": "code",
   "execution_count": 12,
   "metadata": {},
   "outputs": [
    {
     "name": "stderr",
     "output_type": "stream",
     "text": [
      "C:\\Users\\SADMAN\\anaconda3\\lib\\site-packages\\seaborn\\_decorators.py:36: FutureWarning: Pass the following variables as keyword args: x, y. From version 0.12, the only valid positional argument will be `data`, and passing other arguments without an explicit keyword will result in an error or misinterpretation.\n",
      "  warnings.warn(\n"
     ]
    },
    {
     "data": {
      "image/png": "[encoded data removed]",
      "text/plain": [
       "<Figure size 1080x3456 with 1 Axes>"
      ]
     },
     "metadata": {
      "needs_background": "light"
     },
     "output_type": "display_data"
    }
   ],
   "source": [
    "models_by_sale = DataFrame.groupby('Model')['Count'].sum()\n",
    "models_by_sale.sort_values(axis=0, ascending=False, inplace=True)\n",
    "\n",
    "f, ax = plt.subplots(figsize=(15, 48))\n",
    "ax=sns.barplot(models_by_sale, models_by_sale.index,orient='h', color='green')\n",
    "ax.set(title='Models by Sales',xlabel='Count ', ylabel='Model name')\n",
    "plt.show()"
   ]
  },
  {
   "cell_type": "code",
   "execution_count": 13,
   "metadata": {},
   "outputs": [
    {
     "data": {
      "text/html": [
       "<div>\n",
       "<style scoped>\n",
       "    .dataframe tbody tr th:only-of-type {\n",
       "        vertical-align: middle;\n",
       "    }\n",
       "\n",
       "    .dataframe tbody tr th {\n",
       "        vertical-align: top;\n",
       "    }\n",
       "\n",
       "    .dataframe thead th {\n",
       "        text-align: right;\n",
       "    }\n",
       "</style>\n",
       "<table border=\"1\" class=\"dataframe\">\n",
       "  <thead>\n",
       "    <tr style=\"text-align: right;\">\n",
       "      <th></th>\n",
       "      <th>Model</th>\n",
       "      <th>Model_code</th>\n",
       "    </tr>\n",
       "  </thead>\n",
       "  <tbody>\n",
       "    <tr>\n",
       "      <th>0</th>\n",
       "      <td>M45</td>\n",
       "      <td>66.0</td>\n",
       "    </tr>\n",
       "    <tr>\n",
       "      <th>1</th>\n",
       "      <td>M121</td>\n",
       "      <td>25.0</td>\n",
       "    </tr>\n",
       "    <tr>\n",
       "      <th>2</th>\n",
       "      <td>M122</td>\n",
       "      <td>26.0</td>\n",
       "    </tr>\n",
       "    <tr>\n",
       "      <th>3</th>\n",
       "      <td>M91</td>\n",
       "      <td>115.0</td>\n",
       "    </tr>\n",
       "    <tr>\n",
       "      <th>4</th>\n",
       "      <td>M66</td>\n",
       "      <td>88.0</td>\n",
       "    </tr>\n",
       "    <tr>\n",
       "      <th>...</th>\n",
       "      <td>...</td>\n",
       "      <td>...</td>\n",
       "    </tr>\n",
       "    <tr>\n",
       "      <th>46111</th>\n",
       "      <td>M74</td>\n",
       "      <td>97.0</td>\n",
       "    </tr>\n",
       "    <tr>\n",
       "      <th>46112</th>\n",
       "      <td>M59</td>\n",
       "      <td>80.0</td>\n",
       "    </tr>\n",
       "    <tr>\n",
       "      <th>46113</th>\n",
       "      <td>M60</td>\n",
       "      <td>82.0</td>\n",
       "    </tr>\n",
       "    <tr>\n",
       "      <th>46114</th>\n",
       "      <td>M54</td>\n",
       "      <td>75.0</td>\n",
       "    </tr>\n",
       "    <tr>\n",
       "      <th>46115</th>\n",
       "      <td>M58</td>\n",
       "      <td>79.0</td>\n",
       "    </tr>\n",
       "  </tbody>\n",
       "</table>\n",
       "<p>46116 rows × 2 columns</p>\n",
       "</div>"
      ],
      "text/plain": [
       "      Model  Model_code\n",
       "0       M45        66.0\n",
       "1      M121        25.0\n",
       "2      M122        26.0\n",
       "3       M91       115.0\n",
       "4       M66        88.0\n",
       "...     ...         ...\n",
       "46111   M74        97.0\n",
       "46112   M59        80.0\n",
       "46113   M60        82.0\n",
       "46114   M54        75.0\n",
       "46115   M58        79.0\n",
       "\n",
       "[46116 rows x 2 columns]"
      ]
     },
     "execution_count": 13,
     "metadata": {},
     "output_type": "execute_result"
    }
   ],
   "source": [
    "from sklearn.preprocessing import OrdinalEncoder\n",
    "\n",
    "ord_enc = OrdinalEncoder()\n",
    "DataFrame[\"Model_code\"] = ord_enc.fit_transform(DataFrame[[\"Model\"]])\n",
    "DataFrame[[\"Model\", \"Model_code\"]]"
   ]
  },
  {
   "cell_type": "code",
   "execution_count": 14,
   "metadata": {},
   "outputs": [
    {
     "name": "stdout",
     "output_type": "stream",
     "text": [
      "<class 'pandas.core.frame.DataFrame'>\n",
      "RangeIndex: 46116 entries, 0 to 46115\n",
      "Data columns (total 33 columns):\n",
      " #   Column        Non-Null Count  Dtype         \n",
      "---  ------        --------------  -----         \n",
      " 0   Date          46116 non-null  datetime64[ns]\n",
      " 1   Model         46116 non-null  object        \n",
      " 2   Count         46116 non-null  int64         \n",
      " 3   day           46116 non-null  int64         \n",
      " 4   dayofyear     46116 non-null  int64         \n",
      " 5   weekofyear    46116 non-null  int64         \n",
      " 6   year_2015     46116 non-null  uint8         \n",
      " 7   year_2016     46116 non-null  uint8         \n",
      " 8   month_2       46116 non-null  uint8         \n",
      " 9   month_3       46116 non-null  uint8         \n",
      " 10  month_4       46116 non-null  uint8         \n",
      " 11  month_5       46116 non-null  uint8         \n",
      " 12  month_6       46116 non-null  uint8         \n",
      " 13  month_7       46116 non-null  uint8         \n",
      " 14  month_8       46116 non-null  uint8         \n",
      " 15  month_9       46116 non-null  uint8         \n",
      " 16  month_10      46116 non-null  uint8         \n",
      " 17  month_11      46116 non-null  uint8         \n",
      " 18  month_12      46116 non-null  uint8         \n",
      " 19  wday_1        46116 non-null  uint8         \n",
      " 20  wday_2        46116 non-null  uint8         \n",
      " 21  wday_3        46116 non-null  uint8         \n",
      " 22  wday_4        46116 non-null  uint8         \n",
      " 23  wday_5        46116 non-null  uint8         \n",
      " 24  wday_6        46116 non-null  uint8         \n",
      " 25  qrtr_2        46116 non-null  uint8         \n",
      " 26  qrtr_3        46116 non-null  uint8         \n",
      " 27  qrtr_4        46116 non-null  uint8         \n",
      " 28  m_start_True  46116 non-null  uint8         \n",
      " 29  m_end_True    46116 non-null  uint8         \n",
      " 30  year          46116 non-null  int64         \n",
      " 31  month         46116 non-null  int64         \n",
      " 32  Model_code    46116 non-null  float64       \n",
      "dtypes: datetime64[ns](1), float64(1), int64(6), object(1), uint8(24)\n",
      "memory usage: 4.2+ MB\n"
     ]
    }
   ],
   "source": [
    "DataFrame.info()"
   ]
  },
  {
   "cell_type": "code",
   "execution_count": 15,
   "metadata": {},
   "outputs": [
    {
     "data": {
      "text/plain": [
       "Index(['Count', 'qrtr_3', 'month_7', 'year', 'year_2016', 'dayofyear',\n",
       "       'weekofyear', 'month', 'month_6', 'month_8'],\n",
       "      dtype='object')"
      ]
     },
     "execution_count": 15,
     "metadata": {},
     "output_type": "execute_result"
    }
   ],
   "source": [
    "correlation = DataFrame.corr(method='pearson')\n",
    "columns = correlation.nlargest(10, 'Count').index\n",
    "columns"
   ]
  },
  {
   "cell_type": "code",
   "execution_count": 17,
   "metadata": {},
   "outputs": [
    {
     "data": {
      "image/png": "[encoded data removed]",
      "text/plain": [
       "<Figure size 432x288 with 2 Axes>"
      ]
     },
     "metadata": {},
     "output_type": "display_data"
    }
   ],
   "source": [
    "correlation_map = np.corrcoef(DataFrame[columns].values.T)\n",
    "sns.set(font_scale=1.0)\n",
    "heatmap = sns.heatmap(correlation_map, cbar=True, annot=True, square=True, fmt='.2f', yticklabels=columns.values, xticklabels=columns.values)\n",
    "\n",
    "plt.show()"
   ]
  },
  {
   "cell_type": "code",
   "execution_count": 18,
   "metadata": {},
   "outputs": [],
   "source": [
    "x = DataFrame[['qrtr_3', 'month_7', 'year_2016', 'dayofyear', 'weekofyear',\n",
    "       'month_6', 'month_8', 'month_9', 'year_2015']]\n",
    "y = DataFrame['Count']"
   ]
  },
  {
   "cell_type": "code",
   "execution_count": 19,
   "metadata": {},
   "outputs": [],
   "source": [
    "from sklearn.model_selection import train_test_split\n",
    "x_train,x_test,y_train,y_test = train_test_split(x,y,test_size=0.4,random_state=0)"
   ]
  },
  {
   "cell_type": "code",
   "execution_count": 20,
   "metadata": {},
   "outputs": [
    {
     "data": {
      "text/plain": [
       "LinearRegression()"
      ]
     },
     "execution_count": 20,
     "metadata": {},
     "output_type": "execute_result"
    }
   ],
   "source": [
    "from sklearn.linear_model import LinearRegression\n",
    "regressor_MultiLinear = LinearRegression()\n",
    "regressor_MultiLinear.fit(x_train,y_train)"
   ]
  },
  {
   "cell_type": "code",
   "execution_count": 21,
   "metadata": {},
   "outputs": [
    {
     "name": "stdout",
     "output_type": "stream",
     "text": [
      "coefficient: 0.0066096074602346455\n",
      "intercept: 31.2269596705044\n",
      "slope: [ 2.93675756e+01  3.33482507e+01  5.32712480e+01  5.97451500e-02\n",
      " -1.12301720e-02  3.31326802e+01 -7.21635085e+00  3.23567579e+00\n",
      "  4.75138656e+01]\n"
     ]
    }
   ],
   "source": [
    "r_sq = regressor_MultiLinear.score(x, y)\n",
    "print('coefficient:', r_sq)\n",
    "print('intercept:', regressor_MultiLinear.intercept_)\n",
    "print('slope:', regressor_MultiLinear.coef_)"
   ]
  },
  {
   "cell_type": "code",
   "execution_count": 25,
   "metadata": {},
   "outputs": [
    {
     "name": "stdout",
     "output_type": "stream",
     "text": [
      " Mean Absolute Error : 129.0450241302216\n",
      " Root Mean Square Error : 320.1058623207689\n",
      " R2 :  0.0077040879497051185\n"
     ]
    }
   ],
   "source": [
    "y_pred = regressor_MultiLinear.predict(x_train)\n",
    "print(\" Mean Absolute Error :\", mean_absolute_error(y_train, y_pred))\n",
    "print(\" Root Mean Square Error :\", sqrt(mean_squared_error(y_train, y_pred)))\n",
    "print(\" R2 : \", r2_score(y_train, y_pred))"
   ]
  },
  {
   "cell_type": "code",
   "execution_count": 26,
   "metadata": {},
   "outputs": [
    {
     "name": "stdout",
     "output_type": "stream",
     "text": [
      " Mean Absolute Error : 124.31033813485972\n",
      " Root Mean Square Error : 304.66279193372316\n",
      " R2 : 0.004592009953756415\n"
     ]
    }
   ],
   "source": [
    "y_pred = regressor_MultiLinear.predict(x_test)\n",
    "print(\" Mean Absolute Error :\", mean_absolute_error(y_test, y_pred))\n",
    "print(\" Root Mean Square Error :\", sqrt(mean_squared_error(y_test, y_pred)))\n",
    "print(\" R2 :\", r2_score(y_test, y_pred))"
   ]
  },
  {
   "cell_type": "code",
   "execution_count": null,
   "metadata": {},
   "outputs": [],
   "source": []
  }
 ],
 "metadata": {
  "kernelspec": {
   "display_name": "Python 3",
   "language": "python",
   "name": "python3"
  },
  "language_info": {
   "codemirror_mode": {
    "name": "ipython",
    "version": 3
   },
   "file_extension": ".py",
   "mimetype": "text/x-python",
   "name": "python",
   "nbconvert_exporter": "python",
   "pygments_lexer": "ipython3",
   "version": "3.8.5"
  }
 },
 "nbformat": 4,
 "nbformat_minor": 4
}
